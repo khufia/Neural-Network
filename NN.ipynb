{
  "cells": [
    {
      "cell_type": "markdown",
      "source": [
        "#ASSIGNMENT 3"
      ],
      "metadata": {
        "id": "F1qCs0vOlQ6g"
      }
    },
    {
      "cell_type": "code",
      "source": [
        "from google.colab import drive\n",
        "drive.mount('/content/drive')"
      ],
      "metadata": {
        "id": "iyFQdD5tSuHx"
      },
      "execution_count": null,
      "outputs": []
    },
    {
      "cell_type": "code",
      "execution_count": null,
      "metadata": {
        "id": "2rwIt8mPRgYE"
      },
      "outputs": [],
      "source": [
        "import numpy as np #No using automatic differentiation allowed from here!\n",
        "import pandas as pd \n",
        "from sklearn.preprocessing import LabelEncoder, OneHotEncoder\n",
        "from sklearn.model_selection import KFold, StratifiedKFold, train_test_split\n",
        "import sklearn.metrics as metrics"
      ]
    },
    {
      "cell_type": "markdown",
      "source": [
        "RELU activation function"
      ],
      "metadata": {
        "id": "ZD6EwHzmkcQ9"
      }
    },
    {
      "cell_type": "code",
      "source": [
        "def relu(x):\n",
        "    return np.maximum(x, 0)"
      ],
      "metadata": {
        "id": "A0v80IBWkKsO"
      },
      "execution_count": null,
      "outputs": []
    },
    {
      "cell_type": "markdown",
      "source": [
        "Derivative of RELU"
      ],
      "metadata": {
        "id": "Qml8JJebkgVT"
      }
    },
    {
      "cell_type": "code",
      "source": [
        "def relu_prime(x):\n",
        "    return np.array(x >= 0).astype('int')"
      ],
      "metadata": {
        "id": "YJM6UEKfkUYY"
      },
      "execution_count": null,
      "outputs": []
    },
    {
      "cell_type": "markdown",
      "source": [
        "SOFTMAX activation function"
      ],
      "metadata": {
        "id": "XiAmpam2kkPy"
      }
    },
    {
      "cell_type": "code",
      "source": [
        "def softmax(x):\n",
        "    y = np.full(x.shape, 1, dtype = float)\n",
        "    for i in range(len(x)):\n",
        "      for j in range(len(x[i])):\n",
        "        z = np.sum(np.exp(x[i] + e))\n",
        "        y[i][j] = np.exp(x[i][j] + e)/z\n",
        "        # print(y[i][j])\n",
        "    return y"
      ],
      "metadata": {
        "id": "8smh-gPJkWEx"
      },
      "execution_count": null,
      "outputs": []
    },
    {
      "cell_type": "markdown",
      "source": [
        "Derivative of Softmax function"
      ],
      "metadata": {
        "id": "TjVYyjDikqTz"
      }
    },
    {
      "cell_type": "code",
      "source": [
        "def softmax_prime(x):\n",
        "    return x*(1 - x)"
      ],
      "metadata": {
        "id": "J-C5vUF_kX1S"
      },
      "execution_count": null,
      "outputs": []
    },
    {
      "cell_type": "markdown",
      "source": [
        "Softmax Error"
      ],
      "metadata": {
        "id": "9FEnllnwktWB"
      }
    },
    {
      "cell_type": "code",
      "source": [
        "def softmax_error(y, yhat):\n",
        "  x = yhat\n",
        "  for i in range(len(x)):\n",
        "    x[i][y[i]] -= 1\n",
        "  return x"
      ],
      "metadata": {
        "id": "G42Ybmx5VkzL"
      },
      "execution_count": null,
      "outputs": []
    },
    {
      "cell_type": "markdown",
      "metadata": {
        "id": "6xNyo6vuRgYG"
      },
      "source": [
        "## Class template"
      ]
    },
    {
      "cell_type": "code",
      "execution_count": null,
      "metadata": {
        "id": "biUP8W2_RgYG"
      },
      "outputs": [],
      "source": [
        "from pandas.core.arrays import categorical\n",
        "class NeuralNetworkClassifier: \n",
        "    def __init__(self, layers): \n",
        "        self.layers = layers\n",
        "        self.weights = []\n",
        "        self.bias = []\n",
        "        for layer in layers:\n",
        "          w = np.random.randn(layer[0], layer[1]) / (np.sqrt(layer[0] + layer[1]))\n",
        "          self.weights.append(w)\n",
        "          b = np.random.randn(42000, layer[1]) / (np.sqrt(layer[0] + layer[1]))\n",
        "          self.bias.append(b)\n",
        "\n",
        "    def predict(self, X):\n",
        "        self.inputs = []\n",
        "        yhat = X\n",
        "        for i in range(len(self.layers)):\n",
        "          self.inputs.append(yhat)\n",
        "          if self.layers[i][2] == \"relu\":\n",
        "            yhat = relu(np.dot(yhat, self.weights[i]) + self.bias[i])\n",
        "          elif self.layers[i][2] == \"softmax\":\n",
        "            yhat = softmax(np.dot(yhat, self.weights[i]) + self.bias[i])\n",
        "        return yhat\n",
        "\n",
        "\n",
        "\n",
        "\n",
        "    def fit_once(self, X, y, alpha): \n",
        "        yhat = self.predict(X)\n",
        "        loss = self.categorical_cross_entropy_loss(y, yhat)\n",
        "        loss = softmax_error(y, yhat)\n",
        "        # print(loss, loss.shape)\n",
        "        for i in range(len(self.layers) - 1, -1, -1):\n",
        "          if self.layers[i] == \"relu\":\n",
        "            loss = loss*relu_prime(self.inuts[i])\n",
        "  \n",
        "          error = np.dot(loss, self.weights[i].T)\n",
        "          w_error = np.dot(self.inputs[i].T, loss)\n",
        "          b_error = loss\n",
        "          # print(w_error, b_error)\n",
        "          self.weights[i] -= alpha * w_error\n",
        "          self.bias[i] -= alpha * b_error\n",
        "          loss = error\n",
        "\n",
        "    def categorical_cross_entropy_loss(self, y, yhat):\n",
        "        loss = 0.0\n",
        "        for i in range(len(yhat)):\n",
        "          loss += -np.log(yhat[i][y[i]] + e)\n",
        "        return loss/y.size\n",
        "\n",
        "    def print(self):\n",
        "      print(self.weights[1])\n",
        "        \n"
      ]
    },
    {
      "cell_type": "markdown",
      "metadata": {
        "id": "QE6g3s6qRgYH"
      },
      "source": [
        "Reading the data files"
      ]
    },
    {
      "cell_type": "code",
      "execution_count": null,
      "metadata": {
        "id": "2FNpY20tRgYI"
      },
      "outputs": [],
      "source": [
        "train_df = pd.read_csv(\"/content/drive/MyDrive/digit-recognizer/train.csv\")\n",
        "test_df = pd.read_csv(\"/content/drive/MyDrive/digit-recognizer/test.csv\")"
      ]
    },
    {
      "cell_type": "code",
      "source": [
        "NUM_COLUMNS_X = len(train_df.columns)\n",
        "NUM_CLASSES = 10\n",
        "print(NUM_COLUMNS_X, NUM_CLASSES)"
      ],
      "metadata": {
        "colab": {
          "base_uri": "https://localhost:8080/"
        },
        "id": "5HI9lrG2oR4X",
        "outputId": "88b6e9a0-b82f-4bb6-f078-ba813835bac9"
      },
      "execution_count": null,
      "outputs": [
        {
          "output_type": "stream",
          "name": "stdout",
          "text": [
            "785 10\n"
          ]
        }
      ]
    },
    {
      "cell_type": "code",
      "execution_count": null,
      "metadata": {
        "id": "WFEqTtOrRgYI"
      },
      "outputs": [],
      "source": [
        "model = NeuralNetworkClassifier([(NUM_COLUMNS_X - 1, 128, \"relu\"), (128, NUM_CLASSES, \"softmax\")])"
      ]
    },
    {
      "cell_type": "code",
      "source": [
        "X = train_df.drop(columns = \"label\")\n",
        "y = train_df[\"label\"]"
      ],
      "metadata": {
        "id": "vdc6Rx1JxyUe"
      },
      "execution_count": null,
      "outputs": []
    },
    {
      "cell_type": "markdown",
      "source": [
        "Standardizing the inputs"
      ],
      "metadata": {
        "id": "BBT3WizKk2Ys"
      }
    },
    {
      "cell_type": "code",
      "source": [
        "X /= 255"
      ],
      "metadata": {
        "id": "FQddtXvuwJeT"
      },
      "execution_count": null,
      "outputs": []
    },
    {
      "cell_type": "markdown",
      "source": [
        "Training the data"
      ],
      "metadata": {
        "id": "Z7LlFg9Ek81n"
      }
    },
    {
      "cell_type": "code",
      "execution_count": null,
      "metadata": {
        "id": "QsTeLRLQRgYJ"
      },
      "outputs": [],
      "source": [
        "losses = [] \n",
        "NUM_ITERS = 500\n",
        "mini = 1e9\n",
        "index = 0\n",
        "for _ in range(NUM_ITERS):\n",
        "    yhat = model.predict(X)\n",
        "    loss = model.categorical_cross_entropy_loss(y, yhat)\n",
        "    losses.append(loss)\n",
        "    if loss < mini:\n",
        "        mini = loss\n",
        "        index = _\n",
        "    print(_, loss)\n",
        "    model.fit_once(X, y, 1e-5)"
      ]
    },
    {
      "cell_type": "markdown",
      "source": [
        "Accuracy Score"
      ],
      "metadata": {
        "id": "R5CNthFtlD2p"
      }
    },
    {
      "cell_type": "code",
      "source": [
        "yhat = model.predict(X)\n",
        "y_p = []\n",
        "for row in yhat:\n",
        "  label = np.argmax(row)\n",
        "  y_p.append(label)\n",
        "\n",
        "from sklearn.metrics import accuracy_score\n",
        "print(accuracy_score(y, y_p))"
      ],
      "metadata": {
        "colab": {
          "base_uri": "https://localhost:8080/"
        },
        "id": "_xpf8be9sYPj",
        "outputId": "0954a9e7-e5d1-466c-c842-e7540beab071"
      },
      "execution_count": null,
      "outputs": [
        {
          "output_type": "stream",
          "name": "stdout",
          "text": [
            "0.9401904761904762\n"
          ]
        }
      ]
    },
    {
      "cell_type": "code",
      "source": [
        "weights = model.weights\n",
        "bias = model.bias"
      ],
      "metadata": {
        "id": "hOyikj5J_CGb"
      },
      "execution_count": null,
      "outputs": []
    },
    {
      "cell_type": "markdown",
      "source": [
        "Final weights and biases of the model"
      ],
      "metadata": {
        "id": "O81nXOlUlIW8"
      }
    },
    {
      "cell_type": "code",
      "source": [
        ""
      ],
      "metadata": {
        "colab": {
          "base_uri": "https://localhost:8080/"
        },
        "id": "nfbncoCC_Ivu",
        "outputId": "cd56364d-fb24-4783-a6b7-2504044800bc"
      },
      "execution_count": null,
      "outputs": [
        {
          "output_type": "execute_result",
          "data": {
            "text/plain": [
              "[array([[-0.05662299, -0.00822001,  0.01984564, ..., -0.00971528,\n",
              "         -0.05969136,  0.03689887],\n",
              "        [ 0.03069345, -0.03725576, -0.00078683, ...,  0.00785086,\n",
              "         -0.01626002,  0.01948606],\n",
              "        [ 0.0536294 ,  0.01113092, -0.03532959, ...,  0.0312629 ,\n",
              "         -0.00132235,  0.03388958],\n",
              "        ...,\n",
              "        [-0.00920988,  0.0285976 ,  0.00124583, ...,  0.04238046,\n",
              "         -0.02569594, -0.00193116],\n",
              "        [ 0.01198204,  0.00152828, -0.06657702, ...,  0.01734106,\n",
              "          0.02098395,  0.04264134],\n",
              "        [ 0.02085584, -0.02052765, -0.01249615, ...,  0.00104539,\n",
              "          0.03789758, -0.020883  ]]),\n",
              " array([[-0.17289178, -0.08051933,  0.30964021, ...,  0.07982448,\n",
              "          0.06004336, -0.24157354],\n",
              "        [-0.19760956,  0.64033895, -0.03546273, ...,  0.57207101,\n",
              "         -0.43972614, -0.12308222],\n",
              "        [ 0.0283403 ,  0.13906661, -0.0146565 , ...,  0.34354143,\n",
              "         -0.23296845, -0.29818336],\n",
              "        ...,\n",
              "        [ 0.20734901,  0.0491093 ,  0.35144684, ..., -0.19060861,\n",
              "         -0.19292983, -0.08177086],\n",
              "        [ 0.01237648, -0.04124358,  0.11345247, ...,  0.02907473,\n",
              "         -0.12482206,  0.19943878],\n",
              "        [-0.32343935,  0.28909974, -0.17381896, ..., -0.39306153,\n",
              "          0.31926028,  0.15155311]])]"
            ]
          },
          "metadata": {},
          "execution_count": 22
        }
      ]
    }
  ],
  "metadata": {
    "interpreter": {
      "hash": "3e8fb002e6e83f8cdbe11f489f5734d63338be518a5eeb53c4bb6f16064b3c51"
    },
    "kernelspec": {
      "display_name": "Python 3.8.6 64-bit",
      "language": "python",
      "name": "python3"
    },
    "language_info": {
      "codemirror_mode": {
        "name": "ipython",
        "version": 3
      },
      "file_extension": ".py",
      "mimetype": "text/x-python",
      "name": "python",
      "nbconvert_exporter": "python",
      "pygments_lexer": "ipython3",
      "version": "3.8.6"
    },
    "orig_nbformat": 4,
    "colab": {
      "name": "NN.ipynb",
      "provenance": []
    },
    "accelerator": "GPU"
  },
  "nbformat": 4,
  "nbformat_minor": 0
}